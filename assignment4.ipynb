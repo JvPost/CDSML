{
 "cells": [
  {
   "cell_type": "markdown",
   "id": "0441662d",
   "metadata": {},
   "source": [
    "# Imports"
   ]
  },
  {
   "cell_type": "code",
   "execution_count": 1,
   "id": "a3327118",
   "metadata": {},
   "outputs": [],
   "source": [
    "import scipy.io\n",
    "import pandas as pd\n",
    "import numpy as np"
   ]
  },
  {
   "cell_type": "markdown",
   "id": "e7490402",
   "metadata": {},
   "source": [
    "# Data"
   ]
  },
  {
   "cell_type": "code",
   "execution_count": 2,
   "id": "26f2d77c",
   "metadata": {},
   "outputs": [
    {
     "name": "stdout",
     "output_type": "stream",
     "text": [
      "<class 'numpy.ndarray'> (1, 1) [('train_images', 'O'), ('test_images', 'O'), ('train_labels', 'O'), ('test_labels', 'O')]\n"
     ]
    }
   ],
   "source": [
    "mat_data = scipy.io.loadmat('./data/mnistAll.mat')\n",
    "mnist_data = mat_data['mnist']\n",
    "print(type(mnist_data), mnist_data.shape, mnist_data.dtype)"
   ]
  },
  {
   "cell_type": "code",
   "execution_count": 15,
   "id": "e5345381",
   "metadata": {},
   "outputs": [],
   "source": [
    "# load images\n",
    "train_images = mnist_data['train_images'][0, 0].T.squeeze()\n",
    "test_images = mnist_data['test_images'][0, 0].T.squeeze()\n",
    "train_labels = mnist_data['train_labels'][0, 0].T.squeeze()\n",
    "test_labels = mnist_data['test_labels'][0, 0].T.squeeze()\n",
    "# find idxs that are of 3 and 7\n",
    "train_filter = np.where((train_labels == 3) | (train_labels == 7))[0].squeeze()\n",
    "test_filter = np.where((test_labels == 3) | (test_labels == 7))[0]\n",
    "\n",
    "# filter only images and labels of 3 and 7\n",
    "train_images = train_images[train_filter]\n",
    "train_labels = train_labels[train_filter]\n",
    "test_images = test_images[test_filter]\n",
    "test_labels = test_labels[test_filter]\n",
    "\n",
    "# group all images and labels\n",
    "images = np.concatenate((train_images, test_images))\n",
    "labels = np.concatenate((train_labels, test_labels))\n",
    "\n",
    "# re-split images into training and test set\n",
    "train_images = images[:int(.8*len(images))]\n",
    "test_images = images[int(.8*len(images)):]\n",
    "train_labels = labels[:int(.8*len(labels))]\n",
    "test_labels = labels[int(.8*len(labels)):]"
   ]
  }
 ],
 "metadata": {
  "kernelspec": {
   "display_name": "Python 3 (ipykernel)",
   "language": "python",
   "name": "python3"
  },
  "language_info": {
   "codemirror_mode": {
    "name": "ipython",
    "version": 3
   },
   "file_extension": ".py",
   "mimetype": "text/x-python",
   "name": "python",
   "nbconvert_exporter": "python",
   "pygments_lexer": "ipython3",
   "version": "3.11.4"
  },
  "varInspector": {
   "cols": {
    "lenName": 16,
    "lenType": 16,
    "lenVar": 40
   },
   "kernels_config": {
    "python": {
     "delete_cmd_postfix": "",
     "delete_cmd_prefix": "del ",
     "library": "var_list.py",
     "varRefreshCmd": "print(var_dic_list())"
    },
    "r": {
     "delete_cmd_postfix": ") ",
     "delete_cmd_prefix": "rm(",
     "library": "var_list.r",
     "varRefreshCmd": "cat(var_dic_list()) "
    }
   },
   "types_to_exclude": [
    "module",
    "function",
    "builtin_function_or_method",
    "instance",
    "_Feature"
   ],
   "window_display": false
  }
 },
 "nbformat": 4,
 "nbformat_minor": 5
}
